{
 "cells": [
  {
   "cell_type": "code",
   "execution_count": 1,
   "metadata": {
    "collapsed": false
   },
   "outputs": [],
   "source": [
    "import cks.initialize as initialize\n",
    "import cks.evolve as evolve\n",
    "import pylab as pl\n",
    "import arrayfire as af\n",
    "import params\n",
    "af.set_backend(\"cpu\")\n",
    "\n",
    "% matplotlib inline"
   ]
  },
  {
   "cell_type": "code",
   "execution_count": 2,
   "metadata": {
    "collapsed": true
   },
   "outputs": [],
   "source": [
    "pl.rcParams['figure.figsize']  = 12, 7.5\n",
    "pl.rcParams['figure.dpi']      = 300\n",
    "pl.rcParams['image.cmap']      = 'jet'\n",
    "pl.rcParams['lines.linewidth'] = 1.5\n",
    "pl.rcParams['font.family']     = 'serif'\n",
    "pl.rcParams['font.weight']     = 'bold'\n",
    "pl.rcParams['font.size']       = 20  \n",
    "pl.rcParams['font.sans-serif'] = 'serif'\n",
    "pl.rcParams['text.usetex']     = True\n",
    "pl.rcParams['axes.linewidth']  = 1.5\n",
    "pl.rcParams['axes.titlesize']  = 'medium'\n",
    "pl.rcParams['axes.labelsize']  = 'medium'\n",
    "\n",
    "pl.rcParams['xtick.major.size'] = 8     \n",
    "pl.rcParams['xtick.minor.size'] = 4     \n",
    "pl.rcParams['xtick.major.pad']  = 8     \n",
    "pl.rcParams['xtick.minor.pad']  = 8     \n",
    "pl.rcParams['xtick.color']      = 'k'     \n",
    "pl.rcParams['xtick.labelsize']  = 'medium'\n",
    "pl.rcParams['xtick.direction']  = 'in'    \n",
    "\n",
    "pl.rcParams['ytick.major.size'] = 8     \n",
    "pl.rcParams['ytick.minor.size'] = 4     \n",
    "pl.rcParams['ytick.major.pad']  = 8     \n",
    "pl.rcParams['ytick.minor.pad']  = 8     \n",
    "pl.rcParams['ytick.color']      = 'k'     \n",
    "pl.rcParams['ytick.labelsize']  = 'medium'\n",
    "pl.rcParams['ytick.direction']  = 'in' "
   ]
  },
  {
   "cell_type": "code",
   "execution_count": 3,
   "metadata": {
    "collapsed": false
   },
   "outputs": [],
   "source": [
    "config = initialize.set(params)"
   ]
  },
  {
   "cell_type": "code",
   "execution_count": 4,
   "metadata": {
    "collapsed": false
   },
   "outputs": [],
   "source": [
    "x     = initialize.calculate_x(config)\n",
    "vel_x = initialize.calculate_vel_x(config)\n",
    "y     = initialize.calculate_y(config)\n",
    "vel_y = initialize.calculate_vel_y(config)"
   ]
  },
  {
   "cell_type": "code",
   "execution_count": 5,
   "metadata": {
    "collapsed": false
   },
   "outputs": [],
   "source": [
    "f_initial  = initialize.f_initial(config)\n",
    "time_array = initialize.time_array(config)"
   ]
  },
  {
   "cell_type": "code",
   "execution_count": 6,
   "metadata": {
    "collapsed": false
   },
   "outputs": [],
   "source": [
    "class args:\n",
    "    pass\n",
    "\n",
    "args.config = config\n",
    "args.f      = f_initial\n",
    "args.vel_x  = vel_x\n",
    "args.vel_y  = vel_y\n",
    "args.x      = x\n",
    "args.y      = y"
   ]
  },
  {
   "cell_type": "code",
   "execution_count": null,
   "metadata": {
    "collapsed": false
   },
   "outputs": [],
   "source": [
    "dx = af.sum(x[0, 1, 0, 0] - x[0, 0, 0, 0])\n",
    "dy = af.sum(y[1, 0, 0, 0] - y[0, 0, 0, 0])\n",
    "\n",
    "N_x = config.N_x\n",
    "N_y = config.N_y\n",
    "\n",
    "N_ghost_x = config.N_ghost_x\n",
    "N_ghost_y = config.N_ghost_y\n",
    "\n",
    "E_x_local, E_y_local = evolve.fft_poisson(config.charge_particle*evolve.calculate_density(args)[3:-4, 3:-4], dx, dy)\n",
    "\n",
    "E_x_local = af.join(0, E_x_local, E_x_local[0])\n",
    "E_x_local = af.join(1, E_x_local, E_x_local[:, 0])\n",
    "\n",
    "E_y_local = af.join(0, E_y_local, E_y_local[0])\n",
    "E_y_local = af.join(1, E_y_local, E_y_local[:, 0])\n",
    "\n",
    "E_x_local.shape\n",
    "\n",
    "E_x = af.constant(0, N_y + 2*N_ghost_y, N_x + 2*N_ghost_x, dtype=af.Dtype.c64)\n",
    "E_y = af.constant(0, N_y + 2*N_ghost_y, N_x + 2*N_ghost_x, dtype=af.Dtype.c64)\n",
    "\n",
    "E_x[N_ghost_y:-N_ghost_y, N_ghost_x:-N_ghost_x] = E_x_local\n",
    "E_x                                             = evolve.periodic_x(config, E_x)\n",
    "E_x                                             = evolve.periodic_y(config, E_x)\n",
    "\n",
    "E_y[N_ghost_y:-N_ghost_y, N_ghost_x:-N_ghost_x] = E_y_local\n",
    "E_y                                             = evolve.periodic_x(config, E_y)\n",
    "E_y                                             = evolve.periodic_y(config, E_y)\n",
    "\n",
    "args.E_x = af.real(E_x)\n",
    "args.E_y = af.real(E_y)\n",
    "args.B_z = af.constant(0, E_x.shape[0], E_x.shape[1], dtype=af.Dtype.f64)"
   ]
  },
  {
   "cell_type": "code",
   "execution_count": null,
   "metadata": {
    "collapsed": false,
    "scrolled": true
   },
   "outputs": [],
   "source": [
    "data, f_final = evolve.time_integration(args, time_array)"
   ]
  },
  {
   "cell_type": "code",
   "execution_count": null,
   "metadata": {
    "collapsed": false,
    "scrolled": false
   },
   "outputs": [],
   "source": [
    "pl.plot(time_array, data)\n",
    "pl.xlabel('Time')\n",
    "pl.ylabel(r'$MAX(\\delta \\rho(x))$')"
   ]
  },
  {
   "cell_type": "code",
   "execution_count": null,
   "metadata": {
    "collapsed": false
   },
   "outputs": [],
   "source": [
    "# import numpy as np\n",
    "# pl.contourf(np.array(E_x), 100)"
   ]
  },
  {
   "cell_type": "code",
   "execution_count": null,
   "metadata": {
    "collapsed": false
   },
   "outputs": [],
   "source": []
  },
  {
   "cell_type": "code",
   "execution_count": null,
   "metadata": {
    "collapsed": true
   },
   "outputs": [],
   "source": []
  }
 ],
 "metadata": {
  "anaconda-cloud": {},
  "kernelspec": {
   "display_name": "Python [conda root]",
   "language": "python",
   "name": "conda-root-py"
  },
  "language_info": {
   "codemirror_mode": {
    "name": "ipython",
    "version": 3
   },
   "file_extension": ".py",
   "mimetype": "text/x-python",
   "name": "python",
   "nbconvert_exporter": "python",
   "pygments_lexer": "ipython3",
   "version": "3.5.2"
  }
 },
 "nbformat": 4,
 "nbformat_minor": 1
}
