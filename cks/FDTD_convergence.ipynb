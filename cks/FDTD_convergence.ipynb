{
 "cells": [
  {
   "cell_type": "code",
   "execution_count": 1,
   "metadata": {
    "collapsed": false
   },
   "outputs": [],
   "source": [
    "import numpy as np\n",
    "import h5py\n",
    "import params\n",
    "import arrayfire as af\n",
    "import matplotlib.pyplot as pl\n",
    "import cks.initialize as initialize\n",
    "import cks.fdtd as fdtd\n",
    "import cks.evolve as evolve\n",
    "import time as timer\n",
    "# from scipy.fftpack import fftfreq\n",
    "af.set_backend(\"cpu\")\n",
    "\n",
    "% matplotlib inline"
   ]
  },
  {
   "cell_type": "code",
   "execution_count": 2,
   "metadata": {
    "collapsed": false
   },
   "outputs": [],
   "source": [
    "pl.rcParams['figure.figsize']  = 12, 7.5\n",
    "pl.rcParams['lines.linewidth'] = 1.5\n",
    "pl.rcParams['font.family']     = 'serif'\n",
    "pl.rcParams['font.weight']     = 'bold'\n",
    "pl.rcParams['font.size']       = 20\n",
    "pl.rcParams['font.sans-serif'] = 'serif'\n",
    "pl.rcParams['text.usetex']     = False\n",
    "pl.rcParams['axes.linewidth']  = 1.5\n",
    "pl.rcParams['axes.titlesize']  = 'medium'\n",
    "pl.rcParams['axes.labelsize']  = 'medium'\n",
    "pl.rcParams['image.cmap']      = 'jet'\n",
    "pl.rcParams['savefig.dpi']     = 100\n",
    "\n",
    "pl.rcParams['xtick.major.size'] = 8\n",
    "pl.rcParams['xtick.minor.size'] = 4\n",
    "pl.rcParams['xtick.major.pad']  = 8\n",
    "pl.rcParams['xtick.minor.pad']  = 8\n",
    "pl.rcParams['xtick.color']      = 'k'\n",
    "pl.rcParams['xtick.labelsize']  = 'medium'\n",
    "pl.rcParams['xtick.direction']  = 'in'\n",
    "\n",
    "pl.rcParams['ytick.major.size'] = 8\n",
    "pl.rcParams['ytick.minor.size'] = 4\n",
    "pl.rcParams['ytick.major.pad']  = 8\n",
    "pl.rcParams['ytick.minor.pad']  = 8\n",
    "pl.rcParams['ytick.color']      = 'k'\n",
    "pl.rcParams['ytick.labelsize']  = 'medium'\n",
    "pl.rcParams['ytick.direction']  = 'in'"
   ]
  },
  {
   "cell_type": "code",
   "execution_count": 3,
   "metadata": {
    "collapsed": false
   },
   "outputs": [],
   "source": [
    "config = initialize.set(params)"
   ]
  },
  {
   "cell_type": "code",
   "execution_count": 4,
   "metadata": {
    "collapsed": true
   },
   "outputs": [],
   "source": [
    "def gauss1D(x, spread):\n",
    "    return af.exp(-((x - 0.5)**2 )/(2*spread**2))"
   ]
  },
  {
   "cell_type": "code",
   "execution_count": 5,
   "metadata": {
    "collapsed": false
   },
   "outputs": [],
   "source": [
    "X = initialize.calculate_x(config)[:, :, 0, 0]\n",
    "Y = initialize.calculate_y(config)[:, :, 0, 0]"
   ]
  },
  {
   "cell_type": "code",
   "execution_count": 6,
   "metadata": {
    "collapsed": true
   },
   "outputs": [],
   "source": [
    "left_boundary  = config.left_boundary\n",
    "right_boundary = config.right_boundary\n",
    "bot_boundary   = config.bot_boundary\n",
    "top_boundary   = config.top_boundary\n",
    "\n",
    "length_x = right_boundary - left_boundary\n",
    "length_y = top_boundary - bot_boundary\n",
    "\n",
    "N_x = config.N_x\n",
    "N_y = config.N_y\n",
    "\n",
    "N_ghost_x = config.N_ghost_x\n",
    "N_ghost_y = config.N_ghost_y"
   ]
  },
  {
   "cell_type": "code",
   "execution_count": 7,
   "metadata": {
    "collapsed": true
   },
   "outputs": [],
   "source": [
    "dx = (length_x/(N_x - 1))\n",
    "dy = (length_y/(N_y - 1))\n",
    "\n",
    "dt = (dx/2)\n",
    "\n",
    "final_time = 1\n",
    "time       = np.arange(0, final_time, dt)"
   ]
  },
  {
   "cell_type": "code",
   "execution_count": 8,
   "metadata": {
    "collapsed": true
   },
   "outputs": [],
   "source": [
    "Ex = af.data.constant(0, X.shape[0], X.shape[1], dtype=af.Dtype.f64)\n",
    "Ey = af.data.constant(0, X.shape[0], X.shape[1], dtype=af.Dtype.f64)\n",
    "Ez = af.data.constant(0, X.shape[0], X.shape[1], dtype=af.Dtype.f64)\n",
    "Bx = af.data.constant(0, X.shape[0], X.shape[1], dtype=af.Dtype.f64)\n",
    "By = af.data.constant(0, X.shape[0], X.shape[1], dtype=af.Dtype.f64)\n",
    "Bz = af.data.constant(0, X.shape[0], X.shape[1], dtype=af.Dtype.f64)"
   ]
  },
  {
   "cell_type": "code",
   "execution_count": 9,
   "metadata": {
    "collapsed": true
   },
   "outputs": [],
   "source": [
    "# def fft_poisson(rho, dx, dy = None):\n",
    "#     k_x = af.to_array(fftfreq(rho.shape[1], dx))\n",
    "#     k_x = af.Array.as_type(k_x, af.Dtype.c64)\n",
    "#     k_y = af.to_array(fftfreq(rho.shape[0], dy))\n",
    "#     k_x = af.tile(af.reorder(k_x), rho.shape[0], 1)\n",
    "#     k_y = af.tile(k_y, 1, rho.shape[1])\n",
    "#     k_y = af.Array.as_type(k_y, af.Dtype.c64)\n",
    "\n",
    "#     rho_hat       = af.fft2(rho)\n",
    "#     potential_hat = af.constant(0, rho.shape[0], rho.shape[1], dtype=af.Dtype.c64)\n",
    "    \n",
    "#     potential_hat       = (1/(4 * np.pi**2 * (k_x*k_x + k_y*k_y))) * rho_hat\n",
    "#     potential_hat[0, 0] = 0\n",
    "    \n",
    "#     E_x_hat = -1j * 2 * np.pi * (k_x) * potential_hat\n",
    "#     E_y_hat = -1j * 2 * np.pi * (k_y) * potential_hat\n",
    "\n",
    "#     E_x = af.ifft2(E_x_hat)\n",
    "#     E_y = af.ifft2(E_y_hat)\n",
    "\n",
    "#     af.eval(E_x, E_y)\n",
    "#     return(E_x, E_y)"
   ]
  },
  {
   "cell_type": "code",
   "execution_count": 10,
   "metadata": {
    "collapsed": false
   },
   "outputs": [],
   "source": [
    "# rho = 0.01*af.cos(2*np.pi*X + 4*np.pi*Y)\n",
    "# Ex_local, Ey_local = fft_poisson(rho[1:-2, 1:-2], dx, dy)\n",
    "\n",
    "# Ex_local = af.join(0, Ex_local, Ex_local[0])\n",
    "# Ex_local = af.join(1, Ex_local, Ex_local[:, 0])\n",
    "\n",
    "# Ey_local = af.join(0, Ey_local, Ey_local[0])\n",
    "# Ey_local = af.join(1, Ey_local, Ey_local[:, 0])\n",
    "\n",
    "# Ex = af.constant(0, N_y + 2*N_ghost_y, N_x + 2*N_ghost_x, dtype=af.Dtype.c64)\n",
    "# Ey = af.constant(0, N_y + 2*N_ghost_y, N_x + 2*N_ghost_x, dtype=af.Dtype.c64)\n",
    "\n",
    "# Ex[N_ghost_y:-N_ghost_y, N_ghost_x:-N_ghost_x] = Ex_local\n",
    "# Ex                                             = evolve.periodic_x(config, Ex)\n",
    "# Ex                                             = evolve.periodic_y(config, Ex)\n",
    "\n",
    "# Ey[N_ghost_y:-N_ghost_y, N_ghost_x:-N_ghost_x] = Ey_local\n",
    "# Ey                                             = evolve.periodic_x(config, Ey)\n",
    "# Ey                                             = evolve.periodic_y(config, Ey)\n",
    "\n",
    "# Ex = af.real(Ex)\n",
    "# Ey = af.real(Ey)\n",
    "\n",
    "# pl.contourf(np.array(Ex))\n",
    "\n",
    "Ex[1:-1, 1:-1] = gauss1D(Y[1:-1, 1:-1], 0.1)\n",
    "Ey[1:-1, 1:-1] = gauss1D(X[1:-1, 1:-1], 0.1)"
   ]
  },
  {
   "cell_type": "code",
   "execution_count": 11,
   "metadata": {
    "collapsed": false
   },
   "outputs": [],
   "source": [
    "# Jz = af.data.constant(1, X.shape[0], X.shape[1], dtype=af.Dtype.f64)\n",
    "# R  = af.sqrt((X - 20)**2 + (Y - 20)**2)\n",
    "# Jz = 0.5*(af.tanh((R-0.35)/0.1) + af.tanh((0.65-R)/0.1))\n",
    "# pl.contourf(np.array(X[1:-1, 1:-1]), np.array(Y[1:-1, 1:-1]), np.array(Jz[1:-1, 1:-1]), 100)\n",
    "# pl.title('$J_z$')\n",
    "# pl.xlabel('$x$')\n",
    "# pl.ylabel('$y$')\n",
    "# pl.colorbar()\n",
    "\n",
    "# pl.plot(af.reorder(X[512]), af.reorder(Jz[512]))\n",
    "# pl.ylabel(r'$J_z$')\n",
    "# pl.xlabel('$x$')"
   ]
  },
  {
   "cell_type": "code",
   "execution_count": 12,
   "metadata": {
    "collapsed": false
   },
   "outputs": [],
   "source": [
    "Ex_initial = Ex.copy()\n",
    "Ey_initial = Ey.copy()\n",
    "Ez_initial = Ez.copy()\n",
    "Bx_initial = Bx.copy()\n",
    "By_initial = By.copy()\n",
    "Bz_initial = Bz.copy()\n",
    "\n",
    "Jx, Jy, Jz = 0, 0, 0"
   ]
  },
  {
   "cell_type": "code",
   "execution_count": 13,
   "metadata": {
    "collapsed": false
   },
   "outputs": [
    {
     "name": "stdout",
     "output_type": "stream",
     "text": [
      "0\n",
      "Ex =  0.023304586346960973\n",
      "Ey =  0.34868372128377334\n",
      "Bz =  0.0\n",
      "1\n",
      "Ex =  0.023304586346960973\n",
      "Ey =  0.34868372128377334\n",
      "Bz =  -0.0748659983634236\n",
      "2\n",
      "Ex =  0.0273302747861147\n",
      "Ey =  0.358323658131324\n",
      "Bz =  -0.1452440377710711\n",
      "3\n",
      "Ex =  0.03558203428157225\n",
      "Ey =  0.3764653256649907\n",
      "Bz =  -0.20681408525006614\n",
      "4\n",
      "Ex =  0.04842150234486971\n",
      "Ey =  0.4009567851734848\n",
      "Bz =  -0.2556134885804577\n",
      "5\n",
      "Ex =  0.06629580087814417\n",
      "Ey =  0.42886785017004975\n",
      "Bz =  -0.2882597466121429\n"
     ]
    },
    {
     "ename": "KeyboardInterrupt",
     "evalue": "",
     "output_type": "error",
     "traceback": [
      "\u001b[0;31m---------------------------------------------------------------------------\u001b[0m",
      "\u001b[0;31mKeyboardInterrupt\u001b[0m                         Traceback (most recent call last)",
      "\u001b[0;32m<ipython-input-13-eeac3bc4db5f>\u001b[0m in \u001b[0;36m<module>\u001b[0;34m()\u001b[0m\n\u001b[1;32m      8\u001b[0m     \u001b[0mprint\u001b[0m\u001b[0;34m(\u001b[0m\u001b[0;34m'Ey = '\u001b[0m\u001b[0;34m,\u001b[0m \u001b[0maf\u001b[0m\u001b[0;34m.\u001b[0m\u001b[0msum\u001b[0m\u001b[0;34m(\u001b[0m\u001b[0mold2\u001b[0m\u001b[0;34m)\u001b[0m\u001b[0;34m)\u001b[0m\u001b[0;34m\u001b[0m\u001b[0m\n\u001b[1;32m      9\u001b[0m     \u001b[0mprint\u001b[0m\u001b[0;34m(\u001b[0m\u001b[0;34m'Bz = '\u001b[0m\u001b[0;34m,\u001b[0m \u001b[0maf\u001b[0m\u001b[0;34m.\u001b[0m\u001b[0msum\u001b[0m\u001b[0;34m(\u001b[0m\u001b[0mold3\u001b[0m\u001b[0;34m)\u001b[0m\u001b[0;34m)\u001b[0m\u001b[0;34m\u001b[0m\u001b[0m\n\u001b[0;32m---> 10\u001b[0;31m     \u001b[0mtimer\u001b[0m\u001b[0;34m.\u001b[0m\u001b[0msleep\u001b[0m\u001b[0;34m(\u001b[0m\u001b[0;36m2\u001b[0m\u001b[0;34m)\u001b[0m\u001b[0;34m\u001b[0m\u001b[0m\n\u001b[0m\u001b[1;32m     11\u001b[0m \u001b[0;34m\u001b[0m\u001b[0m\n\u001b[1;32m     12\u001b[0m \u001b[0;31m#     div_E = af.convolve2_separable(af.Array([0, 1, 0]) ,af.Array([0, 1, -1]), Ex)*(1/dx) +\\\u001b[0m\u001b[0;34m\u001b[0m\u001b[0;34m\u001b[0m\u001b[0m\n",
      "\u001b[0;31mKeyboardInterrupt\u001b[0m: "
     ]
    }
   ],
   "source": [
    "for time_index, t0 in enumerate(time):\n",
    "    old1 = Ex[8, 12]\n",
    "    old2 = Ey[8, 12]\n",
    "    old3 = Bz[8, 12]\n",
    "    print(time_index)        \n",
    "    Bz, Ex, Ey = fdtd.mode2_fdtd(config, Bz, Ex, Ey, 0, 0, dt)\n",
    "    print('Ex = ', af.sum(old1))\n",
    "    print('Ey = ', af.sum(old2))\n",
    "    print('Bz = ', af.sum(old3))\n",
    "    timer.sleep(2)\n",
    "    \n",
    "#     div_E = af.convolve2_separable(af.Array([0, 1, 0]) ,af.Array([0, 1, -1]), Ex)*(1/dx) +\\\n",
    "#             af.convolve2_separable(af.Array([0, 1, -1]),af.Array([0, 1, 0]) , Ey)*(1/dy)\n",
    "    \n",
    "#     fig   = pl.figure()\n",
    "      \n",
    "\n",
    "#     fig.add_subplot(131, aspect = 'equal')\n",
    "#     pl.contourf(np.array(Ez[::5, ::5]), 100)\n",
    "#     pl.xticks([])\n",
    "#     pl.yticks([])\n",
    "#     pl.title('$E_z' + '(t=%.4f)$'%(t0 + dt))\n",
    "    \n",
    "# #     fig.add_subplot(222, aspect = 'equal')\n",
    "# #     pl.contourf(np.array(Jz), 100)    \n",
    "# #     pl.xticks([])\n",
    "# #     pl.yticks([])\n",
    "# #     pl.title('$J_z$' + '($t=%.4f$)'%(t0+dt))\n",
    "    \n",
    "#     fig.add_subplot(132, aspect = 'equal')\n",
    "#     pl.contourf(np.array(Bx[::5, ::5]), 100)\n",
    "#     pl.xticks([])\n",
    "#     pl.yticks([])\n",
    "#     pl.title('$B_x' + '(t=%.4f)$'%(t0 + dt))\n",
    "\n",
    "#     fig.add_subplot(133, aspect = 'equal')\n",
    "#     pl.contourf(np.array(By[::5, ::5]), 100)    \n",
    "#     pl.xticks([])\n",
    "#     pl.yticks([])\n",
    "#     pl.title('$B_y' + '(t=%.4f)$'%(t0 + dt))\n",
    "    \n",
    "# #     pl.contourf(np.array(X[1:-1, 1:-1]), np.array(Y[1:-1, 1:-1]), np.array(Bz[1:-1, 1:-1]), 100)\n",
    "# #     pl.xlabel('$x$')\n",
    "# #     pl.ylabel('$y$')\n",
    "# #     pl.colorbar()\n",
    "# #     pl.title(r'$B_z$')\n",
    "\n",
    "#     pl.savefig('images/' + \"%04d\"%time_index + '.png')\n",
    "#     pl.close(fig)\n",
    "#     pl.clf()"
   ]
  },
  {
   "cell_type": "code",
   "execution_count": 14,
   "metadata": {
    "collapsed": false
   },
   "outputs": [],
   "source": [
    "error_E_x = af.sum(af.abs(Ex[1:-1] - Ex_initial[1:-1]))/(X.shape[0] * X.shape[1])\n",
    "error_E_y = af.sum(af.abs(Ey[1:-1] - Ey_initial[1:-1]))/(X.shape[0] * X.shape[1])\n",
    "error_B_z = af.sum(af.abs(Bz[1:-1] - Bz_initial[1:-1]))/(X.shape[0] * X.shape[1])"
   ]
  },
  {
   "cell_type": "code",
   "execution_count": 15,
   "metadata": {
    "collapsed": false
   },
   "outputs": [
    {
     "name": "stdout",
     "output_type": "stream",
     "text": [
      "0.08472302406380879\n",
      "0.07130313365804812\n",
      "0.23116702368327377\n"
     ]
    }
   ],
   "source": [
    "print(error_E_x)\n",
    "print(error_E_y)\n",
    "print(error_B_z)"
   ]
  },
  {
   "cell_type": "code",
   "execution_count": 16,
   "metadata": {
    "collapsed": true
   },
   "outputs": [],
   "source": [
    "N     = np.array([16, 32, 64, 128, 256])\n",
    "\n",
    "error_B_x = np.array([0.016404315211801735, 0.007538214539509765, 0.0035662829189681408, \\\n",
    "                      0.0037983704324089534, 0.0019241780767072258\n",
    "                     ]\n",
    "                    )\n",
    "error_B_y = np.array([0.0029627076807707937, 0.00028789773182735453, 2.0652815353209603e-05, \\\n",
    "                      3.109640951095606e-05, 3.690332968482948e-06\n",
    "                     ]\n",
    "                    )\n",
    "error_E_z = np.array([0.017643673531186267, 0.004508667423970165, 0.0011128985837107947, \\\n",
    "                      0.0011389163396302786, 0.000286153415772662\n",
    "                     ]\n",
    "                    )"
   ]
  },
  {
   "cell_type": "code",
   "execution_count": 17,
   "metadata": {
    "collapsed": false
   },
   "outputs": [
    {
     "data": {
      "text/plain": [
       "<matplotlib.text.Text at 0x7ff764eddeb8>"
      ]
     },
     "execution_count": 17,
     "metadata": {},
     "output_type": "execute_result"
    },
    {
     "data": {
      "image/png": "[encoded data removed]",
      "text/plain": [
       "<matplotlib.figure.Figure at 0x7ff764f39b70>"
      ]
     },
     "metadata": {},
     "output_type": "display_data"
    }
   ],
   "source": [
    "pl.loglog(N, error_E_z, '-o', label = '$E_z$')\n",
    "pl.loglog(N, error_B_x, '-o', label = '$B_x$')\n",
    "pl.loglog(N, error_B_y, '-o', label = '$B_y$')\n",
    "pl.loglog(N, 15/N**2, '--', color = 'black', label = '$O(N^{-2})$')\n",
    "pl.loglog(N, 5/N, '.--', color = 'black', label = '$O(N^{-1})$')\n",
    "pl.legend()\n",
    "pl.title('$L_1$ Norm of Error')\n",
    "pl.xlabel('$N_x$')\n",
    "pl.ylabel('Error')"
   ]
  },
  {
   "cell_type": "code",
   "execution_count": 18,
   "metadata": {
    "collapsed": false
   },
   "outputs": [
    {
     "name": "stdout",
     "output_type": "stream",
     "text": [
      "arrayfire.Array()\n",
      "Type: double\n",
      "\n",
      "[1 1 1 1]\n",
      "    0.3487 \n",
      "\n"
     ]
    }
   ],
   "source": [
    "print(Ey_initial[8, 12])"
   ]
  },
  {
   "cell_type": "code",
   "execution_count": 19,
   "metadata": {
    "collapsed": false
   },
   "outputs": [
    {
     "name": "stdout",
     "output_type": "stream",
     "text": [
      "[ 0.          0.01612903  0.03225806  0.0483871   0.06451613  0.08064516\n",
      "  0.09677419  0.11290323  0.12903226  0.14516129  0.16129032  0.17741935\n",
      "  0.19354839  0.20967742  0.22580645  0.24193548  0.25806452  0.27419355\n",
      "  0.29032258  0.30645161  0.32258065  0.33870968  0.35483871  0.37096774\n",
      "  0.38709677  0.40322581  0.41935484  0.43548387  0.4516129   0.46774194\n",
      "  0.48387097  0.5         0.51612903  0.53225806  0.5483871   0.56451613\n",
      "  0.58064516  0.59677419  0.61290323  0.62903226  0.64516129  0.66129032\n",
      "  0.67741935  0.69354839  0.70967742  0.72580645  0.74193548  0.75806452\n",
      "  0.77419355  0.79032258  0.80645161  0.82258065  0.83870968  0.85483871\n",
      "  0.87096774  0.88709677  0.90322581  0.91935484  0.93548387  0.9516129\n",
      "  0.96774194  0.98387097]\n"
     ]
    }
   ],
   "source": [
    "print(time)"
   ]
  },
  {
   "cell_type": "code",
   "execution_count": null,
   "metadata": {
    "collapsed": true
   },
   "outputs": [],
   "source": []
  }
 ],
 "metadata": {
  "anaconda-cloud": {},
  "kernelspec": {
   "display_name": "Python [default]",
   "language": "python",
   "name": "python3"
  },
  "language_info": {
   "codemirror_mode": {
    "name": "ipython",
    "version": 3
   },
   "file_extension": ".py",
   "mimetype": "text/x-python",
   "name": "python",
   "nbconvert_exporter": "python",
   "pygments_lexer": "ipython3",
   "version": "3.5.2"
  }
 },
 "nbformat": 4,
 "nbformat_minor": 1
}
