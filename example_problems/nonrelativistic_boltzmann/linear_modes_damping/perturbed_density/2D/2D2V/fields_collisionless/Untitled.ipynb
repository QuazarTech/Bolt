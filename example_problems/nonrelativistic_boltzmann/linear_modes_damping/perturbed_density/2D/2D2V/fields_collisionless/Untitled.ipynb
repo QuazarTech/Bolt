{
 "cells": [
  {
   "cell_type": "code",
   "execution_count": 1,
   "metadata": {
    "collapsed": true
   },
   "outputs": [],
   "source": [
    "import arrayfire as af\n",
    "import numpy as np\n",
    "import pylab as pl\n",
    "%matplotlib inline"
   ]
  },
  {
   "cell_type": "code",
   "execution_count": 2,
   "metadata": {
    "collapsed": true
   },
   "outputs": [],
   "source": [
    "from bolt.lib.physical_system import physical_system\n",
    "from bolt.lib.nonlinear_solver.nonlinear_solver import nonlinear_solver\n",
    "from bolt.lib.linear_solver.linear_solver import linear_solver"
   ]
  },
  {
   "cell_type": "code",
   "execution_count": 3,
   "metadata": {
    "collapsed": true
   },
   "outputs": [],
   "source": [
    "import domain\n",
    "import boundary_conditions\n",
    "import params\n",
    "import initialize"
   ]
  },
  {
   "cell_type": "code",
   "execution_count": 4,
   "metadata": {
    "collapsed": true
   },
   "outputs": [],
   "source": [
    "import bolt.src.nonrelativistic_boltzmann.advection_terms as advection_terms\n",
    "import bolt.src.nonrelativistic_boltzmann.collision_operator as collision_operator\n",
    "import bolt.src.nonrelativistic_boltzmann.moment_defs as moment_defs"
   ]
  },
  {
   "cell_type": "code",
   "execution_count": 5,
   "metadata": {
    "collapsed": true
   },
   "outputs": [],
   "source": [
    "# Optimized plot parameters to make beautiful plots:\n",
    "pl.rcParams['figure.figsize']  = 12, 7.5\n",
    "pl.rcParams['figure.dpi']      = 75\n",
    "pl.rcParams['image.cmap']      = 'jet'\n",
    "pl.rcParams['lines.linewidth'] = 1.5\n",
    "pl.rcParams['font.family']     = 'serif'\n",
    "pl.rcParams['font.weight']     = 'bold'\n",
    "pl.rcParams['font.size']       = 20\n",
    "pl.rcParams['font.sans-serif'] = 'serif'\n",
    "pl.rcParams['text.usetex']     = True\n",
    "pl.rcParams['axes.linewidth']  = 1.5\n",
    "pl.rcParams['axes.titlesize']  = 'medium'\n",
    "pl.rcParams['axes.labelsize']  = 'medium'\n",
    "\n",
    "pl.rcParams['xtick.major.size'] = 8\n",
    "pl.rcParams['xtick.minor.size'] = 4\n",
    "pl.rcParams['xtick.major.pad']  = 8\n",
    "pl.rcParams['xtick.minor.pad']  = 8\n",
    "pl.rcParams['xtick.color']      = 'k'\n",
    "pl.rcParams['xtick.labelsize']  = 'medium'\n",
    "pl.rcParams['xtick.direction']  = 'in'\n",
    "\n",
    "pl.rcParams['ytick.major.size'] = 8\n",
    "pl.rcParams['ytick.minor.size'] = 4\n",
    "pl.rcParams['ytick.major.pad']  = 8\n",
    "pl.rcParams['ytick.minor.pad']  = 8\n",
    "pl.rcParams['ytick.color']      = 'k'\n",
    "pl.rcParams['ytick.labelsize']  = 'medium'\n",
    "pl.rcParams['ytick.direction']  = 'in'"
   ]
  },
  {
   "cell_type": "code",
   "execution_count": 6,
   "metadata": {
    "collapsed": true
   },
   "outputs": [],
   "source": [
    "# Defining the physical system to be solved:\n",
    "system = physical_system(domain,\n",
    "                         boundary_conditions,\n",
    "                         params,\n",
    "                         initialize,\n",
    "                         advection_terms,\n",
    "                         collision_operator.BGK,\n",
    "                         moment_defs\n",
    "                        )\n",
    "\n",
    "N_g = system.N_ghost"
   ]
  },
  {
   "cell_type": "code",
   "execution_count": 7,
   "metadata": {},
   "outputs": [
    {
     "name": "stdout",
     "output_type": "stream",
     "text": [
      "N_q1 = 2 , N_q2 = 2 , N_p1 = 32 , N_p2 = 32\n"
     ]
    },
    {
     "data": {
      "image/png": "[encoded data removed]",
      "text/plain": [
       "<matplotlib.figure.Figure at 0x7fdb4ad78a58>"
      ]
     },
     "metadata": {},
     "output_type": "display_data"
    }
   ],
   "source": [
    "# Declaring a linear system object which will evolve the defined physical system:\n",
    "nls = nonlinear_solver(system)\n",
    "ls  = linear_solver(system)\n",
    "\n",
    "print(\"N_q1 =\", nls.N_q1, \", N_q2 =\", nls.N_q2, \", N_p1 =\", nls.N_p1, \", N_p2 =\", nls.N_p2)\n",
    "\n",
    "p1 = np.array(af.moddims(nls.p1, nls.N_p1, nls.N_p2))\n",
    "p2 = np.array(af.moddims(nls.p2, nls.N_p1, nls.N_p2))\n",
    "\n",
    "f_at_desired_q_initial = af.moddims(nls.f[:, N_g, N_g + nls.N_q2/2],\n",
    "                            nls.N_p1, nls.N_p2\n",
    "                           )\n",
    "\n",
    "pl.contourf(p1, p2, np.array(f_at_desired_q_initial), 100, cmap='bwr')\n",
    "pl.gca().set_aspect('equal')"
   ]
  },
  {
   "cell_type": "code",
   "execution_count": 8,
   "metadata": {
    "collapsed": true
   },
   "outputs": [],
   "source": [
    "# Time parameters:\n",
    "dt      = 0.001 * 32/nls.N_p1\n",
    "t_final = 0.002 \n",
    "\n",
    "time_array  = np.arange(0, t_final + dt, dt)\n",
    "\n",
    "rho_data_nls = np.zeros(time_array.size)\n",
    "rho_data_ls  = np.zeros(time_array.size)"
   ]
  },
  {
   "cell_type": "code",
   "execution_count": 9,
   "metadata": {
    "collapsed": true
   },
   "outputs": [],
   "source": [
    "# Storing data at time t = 0:\n",
    "n_nls           = nls.compute_moments('density')\n",
    "rho_data_nls[0] = af.max(n_nls[:, N_g:-N_g, N_g:-N_g])\n",
    "\n",
    "n_ls           = ls.compute_moments('density')\n",
    "rho_data_ls[0] = af.max(n_ls) "
   ]
  },
  {
   "cell_type": "code",
   "execution_count": 10,
   "metadata": {
    "scrolled": true
   },
   "outputs": [
    {
     "name": "stdout",
     "output_type": "stream",
     "text": [
      "time_index =  0  of  1  t =  0.001\n",
      "time_index =  1  of  1  t =  0.002\n"
     ]
    }
   ],
   "source": [
    "f = []\n",
    "f.append(nls.f)\n",
    "\n",
    "for time_index, t0 in enumerate(time_array[1:]):\n",
    "    print(\"time_index = \", time_index, \" of \", time_array.size-2, \" t = \", t0)\n",
    "    nls.strang_timestep(dt)\n",
    "    ls.RK4_timestep(dt)\n",
    "    f.append(nls.f)\n",
    "\n",
    "    n_nls                         = nls.compute_moments('density')\n",
    "    rho_data_nls[time_index + 1]  = af.max(n_nls[:, N_g:-N_g, N_g:-N_g])\n",
    "    \n",
    "    n_ls                        = ls.compute_moments('density')\n",
    "    rho_data_ls[time_index + 1] = af.max(n_ls) "
   ]
  },
  {
   "cell_type": "code",
   "execution_count": 11,
   "metadata": {},
   "outputs": [],
   "source": [
    "# pl.plot(time_array, rho_data_ls, '--', color = 'black', label = 'Linear Solver')\n",
    "# pl.plot(time_array, rho_data_nls, label='Nonlinear Solver')\n",
    "# pl.ylabel(r'MAX($\\rho$)')\n",
    "# pl.xlabel('Time')\n",
    "# pl.legend()"
   ]
  },
  {
   "cell_type": "code",
   "execution_count": 12,
   "metadata": {},
   "outputs": [],
   "source": [
    "# f_at_desired_q = af.moddims(f[60][:, N_g, N_g + nls.N_q2/2],\n",
    "#                             nls.N_p1, nls.N_p2\n",
    "#                            )\n",
    "\n",
    "#f_initial_at_desired_q = \\\n",
    "#    initialize.initialize_f(nls.q1_center, nls.q2_center, nls.p1, nls.p2, nls.p3, params)\n",
    "    \n",
    "#f_initial_at_desired_q = af.moddims(f_initial_at_desired_q,\n",
    "#                                    nls.N_p1, nls.N_p2\n",
    "#                                   )\n",
    "\n",
    "\n",
    "# pl.contourf(p1, p2, np.array(f_at_desired_q), 100, cmap='bwr')\n",
    "# pl.gca().set_aspect('equal')"
   ]
  },
  {
   "cell_type": "code",
   "execution_count": 13,
   "metadata": {},
   "outputs": [
    {
     "data": {
      "text/plain": [
       "(1024,)"
      ]
     },
     "execution_count": 13,
     "metadata": {},
     "output_type": "execute_result"
    }
   ],
   "source": [
    "nls.f[:, nls.N_ghost, nls.N_ghost + nls.N_q2/2].shape"
   ]
  },
  {
   "cell_type": "code",
   "execution_count": 14,
   "metadata": {},
   "outputs": [],
   "source": [
    "# for i in range(400):\n",
    "#     f_at_desired_q = af.moddims(f[i][:, N_g, N_g + nls.N_q2/2],\n",
    "#                                 nls.N_p1, nls.N_p2\n",
    "#                                )\n",
    "\n",
    "#     pl.contourf(p1, p2, np.array(f_at_desired_q), 100, cmap='bwr')\n",
    "#     pl.title('Time = %.3f'%(i*1e-3))\n",
    "#     pl.gca().set_aspect('equal')\n",
    "#     pl.savefig('images/%04d'%i+'.png')\n",
    "#     pl.clf()"
   ]
  },
  {
   "cell_type": "code",
   "execution_count": 15,
   "metadata": {},
   "outputs": [],
   "source": [
    "# import os\n",
    "# os.system('cd images;ffmpeg -f image2 -i %04d.png -vcodec mpeg4 -mbd rd -trellis 2 -cmp 2 -g 300 -pass 1 -r 25 -b 18000000 movie.mp4')"
   ]
  },
  {
   "cell_type": "code",
   "execution_count": 16,
   "metadata": {},
   "outputs": [
    {
     "name": "stdout",
     "output_type": "stream",
     "text": [
      "4.869645352133559e-06\n"
     ]
    }
   ],
   "source": [
    "error = af.mean(af.abs(f[time_array.size - 1][:, N_g, N_g + nls.N_q2/2] - f[0][:, N_g, N_g + nls.N_q2/2]))\n",
    "print(error)"
   ]
  },
  {
   "cell_type": "code",
   "execution_count": null,
   "metadata": {
    "collapsed": true
   },
   "outputs": [],
   "source": []
  }
 ],
 "metadata": {
  "kernelspec": {
   "display_name": "Python 3",
   "language": "python",
   "name": "python3"
  },
  "language_info": {
   "codemirror_mode": {
    "name": "ipython",
    "version": 3
   },
   "file_extension": ".py",
   "mimetype": "text/x-python",
   "name": "python",
   "nbconvert_exporter": "python",
   "pygments_lexer": "ipython3",
   "version": "3.6.3"
  }
 },
 "nbformat": 4,
 "nbformat_minor": 2
}
