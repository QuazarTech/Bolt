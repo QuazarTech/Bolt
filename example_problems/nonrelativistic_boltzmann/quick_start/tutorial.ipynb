{
 "cells": [
  {
   "cell_type": "markdown",
   "metadata": {},
   "source": [
    "# Introduction To Bolt"
   ]
  },
  {
   "cell_type": "markdown",
   "metadata": {},
   "source": [
    "Hello! This is an intro to _Bolt_ to help you understand the structure of the framework. This way you'll hit the hit the ground running when you want to introduce models of your own. :)\n",
    "\n",
    "``Bolt`` is a solver framework for kinetic theories and can be used to obtain solution for any equation of the following forms:\n",
    "\n",
    "Conservative:\n",
    "\\begin{align*}\n",
    "\\frac{\\partial f}{\\partial t} + \\frac{\\partial (C_{q1} f)}{\\partial q_1} + \\frac{\\partial (C_{q2} f)}{\\partial q_2} +  \\frac{\\partial (C_{p1} f)}{\\partial p_1} + \\frac{\\partial (C_{p2} f)}{\\partial p_2} + \\frac{\\partial (C_{p3} f)}{\\partial p_3} = S(f)\n",
    "\\end{align*}\n",
    "\n",
    "Non-Conservative:\n",
    "\\begin{align*}\n",
    "\\frac{\\partial f}{\\partial t} + A_{q1} \\frac{\\partial f}{\\partial q_1} + A_{q2} \\frac{\\partial f}{\\partial q_2} + A_{p1} \\frac{\\partial f}{\\partial p_1} + A_{p2} \\frac{\\partial f}{\\partial p_2} + A_{p3} \\frac{\\partial f}{\\partial p_3} = S(f)\n",
    "\\end{align*}\n",
    "\n",
    "Where $A_{q1}$, $A_{q2}$, $A_{p1}$, $A_{p2}$, $A_{p3}$,$C_{q1}$, $C_{q2}$, $C_{p1}$, $C_{p2}$, $C_{p3}$ and $S(f)$  are terms that need to be coded in by the user. `Bolt` can make use of the advective semi-lagrangian method and/or the finite-volume method. While the advective semi-lagrangian method makes use of $A_{q1, q2, p1, p2, p3}$, while the finite volume method makes use of $C_{q1, q2, p1, p2, p3}$.\n",
    "\n",
    "In this tutorial we'll be considering non-relativistic Boltzmann equation, with the BGK collision operator:\n",
    "\n",
    "\\begin{align*}\n",
    "\\frac{\\partial f}{\\partial t} + v_x \\frac{\\partial f}{\\partial x} + v_y \\frac{\\partial f}{\\partial y} + \\frac{q}{m}(\\vec{E} + \\vec{v} \\times \\vec{B})_x \\frac{\\partial f}{\\partial v_x} + \\frac{q}{m}(\\vec{E} + \\vec{v} \\times \\vec{B})_y \\frac{\\partial f}{\\partial v_y} + \\frac{q}{m}(\\vec{E} + \\vec{v} \\times \\vec{B})_z \\frac{\\partial f}{\\partial v_z} = C[f] = -\\frac{f - f_0}{\\tau}\n",
    "\\end{align*}\n",
    "\n",
    "So for this model, we have the following:\n",
    "\n",
    "$A_{q1} = C_{q1} = v_x$\n",
    "\n",
    "$A_{q2} = C_{q2} = v_y$\n",
    "\n",
    "$A_{p1} = C_{p1} = \\frac{q}{m}(\\vec{E} + \\vec{v} \\times \\vec{B})_x$\n",
    "\n",
    "$A_{p2} = C_{p2} = \\frac{q}{m}(\\vec{E} + \\vec{v} \\times \\vec{B})_y$\n",
    "\n",
    "$A_{p3} = C_{p3} = \\frac{q}{m}(\\vec{E} + \\vec{v} \\times \\vec{B})_z$\n",
    "\n",
    "$S(f) = -\\frac{f-f_0}{\\tau}$, where $f_0$ is the local-maxwellian distribution $\\tau$ is the collison timescale.\n",
    "\n",
    "Additionally, we've taken the generalized the canonical coordinates $p_1$, $p_2$ and $p_3$ to be the velocity values $v_x$, $v_y$, $v_z$. That is:\n",
    "\n",
    "$p_1 = v_x$\n",
    "\n",
    "$p_2 = v_y$\n",
    "\n",
    "$p_3 = v_z$"
   ]
  },
  {
   "cell_type": "markdown",
   "metadata": {},
   "source": [
    "Before we dive into how we introduce this non-relativistic Boltzmann equation into ``Bolt``, let's define the example problem that we intend to solve. The problem that we are considering is a simple one: Given an initial perturbation in the number density $n$ in a collisionless periodic 1D domain, how would the amplitude of density vary with time. Basically, we are stating that:\n",
    "\n",
    "\\begin{align*}\n",
    "n(x, 0) = n_{background} + \\delta n_r cos(kx) - \\delta n_i sin(kx)\n",
    "\\end{align*}\n",
    "\n",
    "Now ``Bolt`` requires the initial distribution function to be defined which we'll initialize using the Maxwell Boltzmann distribution function. The system that we are modelling here is a 1D1V one. That is, one dimension in position space, and one dimension in velocity space. The initial distribution function would be:\n",
    "\n",
    "\\begin{align*}\n",
    "f(x, v, t = 0) = n(x, 0) \\sqrt{\\frac{m}{2 \\pi k T}} e^{-\\frac{mv^2}{2 k T}}\n",
    "\\end{align*}"
   ]
  },
  {
   "cell_type": "markdown",
   "metadata": {},
   "source": [
    "The folder in which this notebook is contained has 4 other python files:``boundary_conditions.py``, ``domain.py``, ``initialize.py``, ``params.py`` each of which hold essential information about the system being modelled.\n",
    "\n",
    "These files when which used with the ``import`` statement are imported as modules. These modules are what we use to use to pass the information to the solvers in ``Bolt``. We'll go ahead and import these modules for now, and explore what each of these files contain step by step."
   ]
  },
  {
   "cell_type": "code",
   "execution_count": 3,
   "metadata": {
    "collapsed": true
   },
   "outputs": [],
   "source": [
    "# Importing problem specific modules:\n",
    "import boundary_conditions\n",
    "import domain\n",
    "import params\n",
    "import initialize"
   ]
  },
  {
   "cell_type": "code",
   "execution_count": 10,
   "metadata": {},
   "outputs": [
    {
     "name": "stdout",
     "output_type": "stream",
     "text": [
      "in_q1_left  = 'periodic'\r\n",
      "in_q1_right = 'periodic'\r\n",
      "\r\n",
      "in_q2_bottom = 'periodic'\r\n",
      "in_q2_top    = 'periodic'\r\n"
     ]
    }
   ],
   "source": [
    "!cat boundary_conditions.py"
   ]
  },
  {
   "cell_type": "markdown",
   "metadata": {},
   "source": [
    "As the name suggests ``boundary_conditions.py`` contains the information about the boundary conditions for the setup considered. While the current problem in consideration is for periodic boundary conditions, ``Bolt`` also supports Dirichlet, mirror, and shearing box boundary conditions. The setups for these boundary conditions can be found in other example problems. "
   ]
  },
  {
   "cell_type": "code",
   "execution_count": 11,
   "metadata": {
    "scrolled": false
   },
   "outputs": [
    {
     "name": "stdout",
     "output_type": "stream",
     "text": [
      "q1_start = 0\r\n",
      "q1_end   = 1\r\n",
      "N_q1     = 32\r\n",
      "\r\n",
      "q2_start = 0\r\n",
      "q2_end   = 1\r\n",
      "N_q2     = 3\r\n",
      "\r\n",
      "p1_start = -10\r\n",
      "p1_end   = 10\r\n",
      "N_p1     = 32\r\n",
      "\r\n",
      "p2_start = -0.5\r\n",
      "p2_end   = 0.5\r\n",
      "N_p2     = 1\r\n",
      "\r\n",
      "p3_start = -0.5\r\n",
      "p3_end   = 0.5\r\n",
      "N_p3     = 1\r\n",
      "    \r\n",
      "N_ghost_q = 3\r\n",
      "N_ghost_p = 0\r\n"
     ]
    }
   ],
   "source": [
    "!cat domain.py"
   ]
  },
  {
   "cell_type": "markdown",
   "metadata": {},
   "source": [
    "``domain.py`` contains data about the phase space domain and resolution that has been considered. Note that we've taken the number of grid points along ``q2`` as 3 although it's a 1D problem. It must be ensured that the number of grid zones in ``q1`` and ``q2`` are greater than or equal to the the number of ghost zones that are taken in q space. This is due to an internal restriction placed on us by one of the libraries we use for parallelization. Additionally, we've taken the domain zones and sizes for ``p3`` and ``p3`` such that ``dp2`` and ``dp3`` come out to be one. This way the integral measure, ``dp1 dp2 dp3`` boils down to be ``dp1`` which is then used for moment computations."
   ]
  },
  {
   "cell_type": "code",
   "execution_count": 12,
   "metadata": {
    "scrolled": false
   },
   "outputs": [
    {
     "name": "stdout",
     "output_type": "stream",
     "text": [
      "import numpy as np\r\n",
      "import arrayfire as af\r\n",
      "\r\n",
      "fields_type       = 'electrostatic'\r\n",
      "fields_initialize = 'fft'\r\n",
      "fields_solver     = 'fdtd'\r\n",
      "\r\n",
      "solver_method_in_q = 'FVM'\r\n",
      "solver_method_in_p = 'FVM'\r\n",
      "\r\n",
      "reconstruction_method_in_q = 'weno5'\r\n",
      "reconstruction_method_in_p = 'weno5'\r\n",
      "\r\n",
      "riemann_solver_in_q = 'upwind-flux'\r\n",
      "riemann_solver_in_p = 'upwind-flux'\r\n",
      "\r\n",
      "# Dimensionality considered in velocity space:\r\n",
      "p_dim = 1\r\n",
      "\r\n",
      "# Number of devices(GPUs/Accelerators) on each node:\r\n",
      "num_devices = 1\r\n",
      "\r\n",
      "# Constants:\r\n",
      "mass               = [1]\r\n",
      "boltzmann_constant = 1\r\n",
      "charge             = [-10]\r\n",
      "\r\n",
      "EM_fields_enabled = False\r\n",
      "source_enabled    = True\r\n",
      "\r\n",
      "# Variation of collisional-timescale parameter through phase space:\r\n",
      "@af.broadcast\r\n",
      "def tau(q1, q2, p1, p2, p3):\r\n",
      "    return (0.01 * p1**0 * q1**0)\r\n",
      "\r\n",
      "# Initial Conditions used in initialize:\r\n",
      "rho_background         = 1\r\n",
      "temperature_background = 1\r\n",
      "\r\n",
      "p1_bulk_background = 0\r\n",
      "\r\n",
      "pert_real = 0.01\r\n",
      "pert_imag = 0.02\r\n",
      "\r\n",
      "k_q1 = 2 * np.pi\r\n"
     ]
    }
   ],
   "source": [
    "!cat params.py"
   ]
  },
  {
   "cell_type": "markdown",
   "metadata": {},
   "source": [
    "Let's go over each of the attributes mentioned above to understand their usage:\n",
    "\n",
    "``fields_type`` is used to declare what sort of fields are being solved in the problem of consideration. It can be electrostatic where magnetic fields stay at zero, electrodynamic where magnetic fields are also evolved and user-defined where the evolution of the fields in time are declared by the user(this is primarily used in debugging). This attribute can be set appropriately as ``electrostatic``, ``electrodynamic`` and ``user-defined``. The setup we've considered is an electrostatic one.\n",
    "\n",
    "``fields_initialize`` is used to declare which method is used to set the initialize the values for the electromagnetic fields. 2 methods are available for initializing electrostatic fields from the density - ``snes`` and ``fft``. The ``fft`` method of initialization can only be used for serial runs with periodic boundary conditions. ``snes`` is  a more versatile method capable of being run in parallel with other boundary conditions as well. It makes use of the SNES routines in PETSc which use Krylov subspace methods to solve for the fields. Additionally, this can also be set to ``user-defined``, where the initial conditions for the electric and magnetic fields are defined in terms of ``q1`` and ``q2`` under initialize.\n",
    "\n",
    "``fields_solver`` is used to declare which method is used to set the method that is used to evolve the fields with time. The same methods are available for computing electrostatic fields ``snes`` and ``fft``. The ``fdtd`` method is to be used when solving for electrodynamic systems.\n",
    "\n",
    "``solver_method_in_q`` and ``solver_method_in_p`` are used to set the specific solver method used in q-space and p-space which can be set to ``FVM`` or ``ASL`` for the finite volume method and the advective semi-lagrangian method.\n",
    "\n",
    "``reconstruction_method_in_q`` and ``reconstruction_method_in_p`` are used to set the specific reconstruction scheme used for the FVM method in q-space and p-space. This can be set to ``piecewise-constant``, ``minmod``, ``ppm`` and ``weno5``. \n",
    "\n",
    "``riemann_solver_in_q`` and ``riemann_solver_in_p`` are used to set the specific riemann solver which is to be used for the FVM method in q-space and p-space. This can be set to ``upwind-flux`` for the first order upwind flux method, and ``lax-friedrichs`` for the local Lax-Friedrichs method.\n",
    "\n",
    "``p_dim`` is used to set the dimensionality considered in p-space. This becomes important especially for the definition of various physical quantities which vary as a function of the dimensionality and the moments. This would also be used in our case in the collision operator as we'll discuss further in this tutorial.\n",
    "\n",
    "``num_devices`` is used in parallel runs when run on nodes which contain more than a single accelerator. For instance when running on nodes which contain 4 GPUs each, this attribute is set to 4.\n",
    "\n",
    "``mass``, ``boltzmann_constant`` and ``charge`` are pretty explanatory from their name, and are used within certain methods of the solver.\n",
    "\n",
    "``EM_fields_enabled`` is a solver flag which is used to indicate whether the case considered is one where we solve in p-space as well. Similarly, ``source_enabled`` is used to switch on and off the source term $S(f)$\n",
    "\n",
    "``tau`` is the collision timescale in the BGK operator and used in solving for the source part of the equation.\n",
    "\n",
    "The remaining parameters as they are mentioned are used the ``initialize`` module"
   ]
  },
  {
   "cell_type": "code",
   "execution_count": 13,
   "metadata": {
    "scrolled": false
   },
   "outputs": [
    {
     "name": "stdout",
     "output_type": "stream",
     "text": [
      "\"\"\"\r\n",
      "Functions which are used in assigning the I.C's to\r\n",
      "the system.\r\n",
      "\"\"\"\r\n",
      "\r\n",
      "import arrayfire as af\r\n",
      "import numpy as np\r\n",
      "\r\n",
      "def initialize_f(q1, q2, p1, p2, p3, params):\r\n",
      "\r\n",
      "    m = params.mass\r\n",
      "    k = params.boltzmann_constant\r\n",
      "\r\n",
      "    rho_b = params.rho_background\r\n",
      "    T_b   = params.temperature_background\r\n",
      "\r\n",
      "    p1_bulk = params.p1_bulk_background\r\n",
      "\r\n",
      "    pert_real = params.pert_real\r\n",
      "    pert_imag = params.pert_imag\r\n",
      "\r\n",
      "    k_q1 = params.k_q1\r\n",
      "\r\n",
      "    # Calculating the perturbed density:\r\n",
      "    rho = rho_b + (  pert_real * af.cos(k_q1 * q1)\r\n",
      "                   - pert_imag * af.sin(k_q1 * q1)\r\n",
      "                  )\r\n",
      "\r\n",
      "    f = rho * (m / (2 * np.pi * k * T_b))**(1 / 2) \\\r\n",
      "            * af.exp(-m * (p1 - p1_bulk)**2 / (2 * k * T_b)) \\\r\n",
      "\r\n",
      "    af.eval(f)\r\n",
      "    return (f)\r\n"
     ]
    }
   ],
   "source": [
    "!cat initialize.py"
   ]
  },
  {
   "cell_type": "markdown",
   "metadata": {},
   "source": [
    "As you can see the ``initialize`` module contains the function ``initialize_f`` which initializes the distribution function using the parameters that were declared."
   ]
  },
  {
   "cell_type": "markdown",
   "metadata": {},
   "source": [
    "## How the equation to be modelled is introduced into Bolt:"
   ]
  },
  {
   "cell_type": "markdown",
   "metadata": {},
   "source": [
    "As one navigates from the root folder of this repository into the folder main folder for the package ``bolt``, there's two separate subfolders ``lib`` and ``src``. While all the files in ``lib`` contain the solver algorithms, and the structure for the solvers, ``src`` is where we introduce the models that we intend to model. For instance, the files that we'll be using for this test problem can be found under ``bolt/src/nonrelativistic_boltzmann``.\n",
    "\n",
    "Let's start of by seeing how we'd introduce the above advection terms specific to the non-relativistic Boltzmann equation into the framework of ``Bolt``. Advection terms are introduced into ``Bolt`` by creating a module ``advection_terms`` which has the functions ``A_q, C_q, C_p, C_p``. \n",
    "\n",
    "It is expected that ``A_q`` and ``C_q`` take the arguments ``(f, t, q1, q2, v1, v2, v3, params)``, where `f` is the distribution function, `t` is the time elapsed, `(q1, q2, v1, v2, v3)` are phase space grid data for the position space and velocity space respectively. Additionally, it also accepts a module ``params`` which can take contain user defined attributes and functions that can be injected into this function.\n",
    "\n",
    "While ``A_p`` and ``C_p`` take all the arguments that are taken by ``A_q`` and ``C_q``, it also takes the additional argument of a ``fields_solver`` object. The ``get_fields()`` method of this object returns the electromagnetic fields at the current instance. The ``fields_solver`` objects are internal to the solvers, and can be chosen as an electrostatic and electrodynamic "
   ]
  },
  {
   "cell_type": "code",
   "execution_count": 2,
   "metadata": {},
   "outputs": [
    {
     "name": "stderr",
     "output_type": "stream",
     "text": [
      "ERROR:root:Line magic function `%paste` not found.\n"
     ]
    }
   ],
   "source": [
    "# NOTE: NOT YET COMPLETED"
   ]
  },
  {
   "cell_type": "code",
   "execution_count": 1,
   "metadata": {
    "collapsed": true
   },
   "outputs": [],
   "source": [
    "# Importing dependencies:\n",
    "import arrayfire as af\n",
    "import numpy as np\n",
    "import pylab as pl\n",
    "%matplotlib inline"
   ]
  },
  {
   "cell_type": "code",
   "execution_count": 2,
   "metadata": {
    "collapsed": true
   },
   "outputs": [],
   "source": [
    "from bolt.lib.physical_system import physical_system\n",
    "from bolt.lib.nonlinear.nonlinear_solver import nonlinear_solver\n",
    "from bolt.lib.linear.linear_solver import linear_solver"
   ]
  },
  {
   "cell_type": "code",
   "execution_count": 3,
   "metadata": {
    "collapsed": true
   },
   "outputs": [],
   "source": [
    "# Optimized plot parameters to make beautiful plots:\n",
    "pl.rcParams['figure.figsize']  = 12, 7.5\n",
    "pl.rcParams['figure.dpi']      = 300\n",
    "pl.rcParams['image.cmap']      = 'jet'\n",
    "pl.rcParams['lines.linewidth'] = 1.5\n",
    "pl.rcParams['font.family']     = 'serif'\n",
    "pl.rcParams['font.weight']     = 'bold'\n",
    "pl.rcParams['font.size']       = 20\n",
    "pl.rcParams['font.sans-serif'] = 'serif'\n",
    "pl.rcParams['text.usetex']     = True\n",
    "pl.rcParams['axes.linewidth']  = 1.5\n",
    "pl.rcParams['axes.titlesize']  = 'medium'\n",
    "pl.rcParams['axes.labelsize']  = 'medium'\n",
    "\n",
    "pl.rcParams['xtick.major.size'] = 8\n",
    "pl.rcParams['xtick.minor.size'] = 4\n",
    "pl.rcParams['xtick.major.pad']  = 8\n",
    "pl.rcParams['xtick.minor.pad']  = 8\n",
    "pl.rcParams['xtick.color']      = 'k'\n",
    "pl.rcParams['xtick.labelsize']  = 'medium'\n",
    "pl.rcParams['xtick.direction']  = 'in'\n",
    "\n",
    "pl.rcParams['ytick.major.size'] = 8\n",
    "pl.rcParams['ytick.minor.size'] = 4\n",
    "pl.rcParams['ytick.major.pad']  = 8\n",
    "pl.rcParams['ytick.minor.pad']  = 8\n",
    "pl.rcParams['ytick.color']      = 'k'\n",
    "pl.rcParams['ytick.labelsize']  = 'medium'\n",
    "pl.rcParams['ytick.direction']  = 'in'"
   ]
  },
  {
   "cell_type": "code",
   "execution_count": 4,
   "metadata": {},
   "outputs": [
    {
     "ename": "NameError",
     "evalue": "name 'domain' is not defined",
     "output_type": "error",
     "traceback": [
      "\u001b[0;31m---------------------------------------------------------------------------\u001b[0m",
      "\u001b[0;31mNameError\u001b[0m                                 Traceback (most recent call last)",
      "\u001b[0;32m<ipython-input-4-8fb55d0834f5>\u001b[0m in \u001b[0;36m<module>\u001b[0;34m()\u001b[0m\n\u001b[1;32m      1\u001b[0m \u001b[0;31m# Defining the physical system to be solved:\u001b[0m\u001b[0;34m\u001b[0m\u001b[0;34m\u001b[0m\u001b[0m\n\u001b[0;32m----> 2\u001b[0;31m system = physical_system(domain,\n\u001b[0m\u001b[1;32m      3\u001b[0m                          \u001b[0mboundary_conditions\u001b[0m\u001b[0;34m,\u001b[0m\u001b[0;34m\u001b[0m\u001b[0m\n\u001b[1;32m      4\u001b[0m                          \u001b[0mparams\u001b[0m\u001b[0;34m,\u001b[0m\u001b[0;34m\u001b[0m\u001b[0m\n\u001b[1;32m      5\u001b[0m                          \u001b[0minitialize\u001b[0m\u001b[0;34m,\u001b[0m\u001b[0;34m\u001b[0m\u001b[0m\n",
      "\u001b[0;31mNameError\u001b[0m: name 'domain' is not defined"
     ]
    }
   ],
   "source": [
    "# Defining the physical system to be solved:\n",
    "system = physical_system(domain,\n",
    "                         boundary_conditions,\n",
    "                         params,\n",
    "                         initialize,\n",
    "                         advection_terms,\n",
    "                         collision_operator.BGK,\n",
    "                         moments\n",
    "                        )\n",
    "\n",
    "N_g_q = system.N_ghost_q\n",
    "\n",
    "# Declaring a linear system object which will evolve the defined physical system:\n",
    "nls = nonlinear_solver(system)\n",
    "ls  = linear_solver(system)"
   ]
  },
  {
   "cell_type": "code",
   "execution_count": 5,
   "metadata": {
    "collapsed": true
   },
   "outputs": [],
   "source": [
    "# Time parameters:\n",
    "dt      = 0.001\n",
    "t_final = 0.5\n",
    "\n",
    "time_array  = np.arange(0, t_final + dt, dt)\n",
    "\n",
    "rho_data_nls = np.zeros(time_array.size)\n",
    "rho_data_ls  = np.zeros(time_array.size)"
   ]
  },
  {
   "cell_type": "code",
   "execution_count": 6,
   "metadata": {},
   "outputs": [
    {
     "ename": "NameError",
     "evalue": "name 'nls' is not defined",
     "output_type": "error",
     "traceback": [
      "\u001b[0;31m---------------------------------------------------------------------------\u001b[0m",
      "\u001b[0;31mNameError\u001b[0m                                 Traceback (most recent call last)",
      "\u001b[0;32m<ipython-input-6-bf0625a42e1f>\u001b[0m in \u001b[0;36m<module>\u001b[0;34m()\u001b[0m\n\u001b[1;32m      1\u001b[0m \u001b[0;31m# Storing data at time t = 0:\u001b[0m\u001b[0;34m\u001b[0m\u001b[0;34m\u001b[0m\u001b[0m\n\u001b[0;32m----> 2\u001b[0;31m \u001b[0mn_nls\u001b[0m           \u001b[0;34m=\u001b[0m \u001b[0mnls\u001b[0m\u001b[0;34m.\u001b[0m\u001b[0mcompute_moments\u001b[0m\u001b[0;34m(\u001b[0m\u001b[0;34m'density'\u001b[0m\u001b[0;34m)\u001b[0m\u001b[0;34m\u001b[0m\u001b[0m\n\u001b[0m\u001b[1;32m      3\u001b[0m \u001b[0mrho_data_nls\u001b[0m\u001b[0;34m[\u001b[0m\u001b[0;36m0\u001b[0m\u001b[0;34m]\u001b[0m \u001b[0;34m=\u001b[0m \u001b[0maf\u001b[0m\u001b[0;34m.\u001b[0m\u001b[0mmax\u001b[0m\u001b[0;34m(\u001b[0m\u001b[0mn_nls\u001b[0m\u001b[0;34m[\u001b[0m\u001b[0;34m:\u001b[0m\u001b[0;34m,\u001b[0m \u001b[0;34m:\u001b[0m\u001b[0;34m,\u001b[0m \u001b[0mN_g_q\u001b[0m\u001b[0;34m:\u001b[0m\u001b[0;34m-\u001b[0m\u001b[0mN_g_q\u001b[0m\u001b[0;34m,\u001b[0m \u001b[0mN_g_q\u001b[0m\u001b[0;34m:\u001b[0m\u001b[0;34m-\u001b[0m\u001b[0mN_g_q\u001b[0m\u001b[0;34m]\u001b[0m\u001b[0;34m)\u001b[0m\u001b[0;34m\u001b[0m\u001b[0m\n\u001b[1;32m      4\u001b[0m \u001b[0;34m\u001b[0m\u001b[0m\n\u001b[1;32m      5\u001b[0m \u001b[0mn_ls\u001b[0m           \u001b[0;34m=\u001b[0m \u001b[0mls\u001b[0m\u001b[0;34m.\u001b[0m\u001b[0mcompute_moments\u001b[0m\u001b[0;34m(\u001b[0m\u001b[0;34m'density'\u001b[0m\u001b[0;34m)\u001b[0m\u001b[0;34m\u001b[0m\u001b[0m\n",
      "\u001b[0;31mNameError\u001b[0m: name 'nls' is not defined"
     ]
    }
   ],
   "source": [
    "# Storing data at time t = 0:\n",
    "n_nls           = nls.compute_moments('density')\n",
    "rho_data_nls[0] = af.max(n_nls[:, :, N_g_q:-N_g_q, N_g_q:-N_g_q])\n",
    "\n",
    "n_ls           = ls.compute_moments('density')\n",
    "rho_data_ls[0] = af.max(n_ls) \n",
    "\n",
    "for time_index, t0 in enumerate(time_array[1:]):\n",
    "\n",
    "    nls.strang_timestep(dt)\n",
    "    ls.RK4_timestep(dt)\n",
    "\n",
    "    n_nls                         = nls.compute_moments('density')\n",
    "    rho_data_nls[time_index + 1]  = af.max(n_nls[:, :, N_g_q:-N_g_q, N_g_q:-N_g_q])\n",
    "    \n",
    "    n_ls                        = ls.compute_moments('density')\n",
    "    rho_data_ls[time_index + 1] = af.max(n_ls) "
   ]
  },
  {
   "cell_type": "code",
   "execution_count": 7,
   "metadata": {
    "collapsed": true
   },
   "outputs": [],
   "source": [
    "pl.plot(time_array, rho_data_ls, '--', color = 'black', label = 'Linear Solver')\n",
    "pl.plot(time_array, rho_data_nls, label='Nonlinear Solver')\n",
    "pl.ylabel(r'MAX($\\rho$)')\n",
    "pl.xlabel('Time')\n",
    "pl.legend()\n",
    "pl.savefig('rho.png')\n",
    "pl.clf()"
   ]
  },
  {
   "cell_type": "code",
   "execution_count": null,
   "metadata": {
    "collapsed": true
   },
   "outputs": [],
   "source": []
  }
 ],
 "metadata": {
  "kernelspec": {
   "display_name": "Python 3",
   "language": "python",
   "name": "python3"
  },
  "language_info": {
   "codemirror_mode": {
    "name": "ipython",
    "version": 3
   },
   "file_extension": ".py",
   "mimetype": "text/x-python",
   "name": "python",
   "nbconvert_exporter": "python",
   "pygments_lexer": "ipython3",
   "version": "3.6.3"
  }
 },
 "nbformat": 4,
 "nbformat_minor": 2
}
