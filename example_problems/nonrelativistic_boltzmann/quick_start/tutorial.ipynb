{
 "cells": [
  {
   "cell_type": "markdown",
   "metadata": {},
   "source": [
    "# Introduction To Bolt"
   ]
  },
  {
   "cell_type": "markdown",
   "metadata": {},
   "source": [
    "Hello! This is a quick intro to _Bolt_ to help you understand the structure of the framework. This way you'll hit the hit the ground running when you want to introduce models of your own. :)\n",
    "\n",
    "`Bolt` is a solver framework for kinetic theories and can be used to obtain solution for any equation of the following forms:\n",
    "\n",
    "Conservative:\n",
    "\\begin{align*}\n",
    "\\frac{\\partial f}{\\partial t} + \\frac{\\partial (C_{q1} f)}{\\partial q_1} + \\frac{\\partial (C_{q2} f)}{\\partial q_2} +  \\frac{\\partial (C_{p1} f)}{\\partial p_1} + \\frac{\\partial (C_{p2} f)}{\\partial p_2} + \\frac{\\partial (C_{p3} f)}{\\partial p_3} = S(f)\n",
    "\\end{align*}\n",
    "\n",
    "Non-Conservative:\n",
    "\\begin{align*}\n",
    "\\frac{\\partial f}{\\partial t} + A_{q1} \\frac{\\partial f}{\\partial q_1} + A_{q2} \\frac{\\partial f}{\\partial q_2} + A_{p1} \\frac{\\partial f}{\\partial p_1} + A_{p2} \\frac{\\partial f}{\\partial p_2} + A_{p3} \\frac{\\partial f}{\\partial p_3} = S(f)\n",
    "\\end{align*}\n",
    "\n",
    "Where $A_{q1}$, $A_{q2}$, $A_{p1}$, $A_{p2}$, $A_{p3}$,$C_{q1}$, $C_{q2}$, $C_{p1}$, $C_{p2}$, $C_{p3}$ and $S(f)$  are terms that need to be coded in by the user. `Bolt` can make use of the advective semi-lagrangian method and/or the finite-volume method. While the advective semi-lagrangian method makes use of $A_{q1, q2, p1, p2, p3}$, while the finite volume method makes use of $C_{q1, q2, p1, p2, p3}$.\n",
    "\n",
    "In this tutorial we'll be considering non-relativistic Boltzmann equation, with the BGK collision operator:\n",
    "\n",
    "\\begin{align*}\n",
    "\\frac{\\partial f}{\\partial t} + v_x \\frac{\\partial f}{\\partial x} + v_y \\frac{\\partial f}{\\partial y} + \\frac{q}{m}(\\vec{E} + \\vec{v} \\times \\vec{B})_x \\frac{\\partial f}{\\partial v_x} + \\frac{q}{m}(\\vec{E} + \\vec{v} \\times \\vec{B})_y \\frac{\\partial f}{\\partial v_y} + \\frac{q}{m}(\\vec{E} + \\vec{v} \\times \\vec{B})_z \\frac{\\partial f}{\\partial v_z} = C[f] = -\\frac{f - f_0}{\\tau}\n",
    "\\end{align*}"
   ]
  },
  {
   "cell_type": "code",
   "execution_count": 1,
   "metadata": {
    "collapsed": true
   },
   "outputs": [],
   "source": [
    "# Importing dependencies:\n",
    "import arrayfire as af\n",
    "import numpy as np\n",
    "import pylab as pl\n",
    "%matplotlib inline"
   ]
  },
  {
   "cell_type": "code",
   "execution_count": 2,
   "metadata": {
    "collapsed": true
   },
   "outputs": [],
   "source": [
    "from bolt.lib.physical_system import physical_system\n",
    "from bolt.lib.nonlinear.nonlinear_solver import nonlinear_solver\n",
    "from bolt.lib.linear.linear_solver import linear_solver"
   ]
  },
  {
   "cell_type": "code",
   "execution_count": 3,
   "metadata": {
    "collapsed": true
   },
   "outputs": [],
   "source": [
    "# Optimized plot parameters to make beautiful plots:\n",
    "pl.rcParams['figure.figsize']  = 12, 7.5\n",
    "pl.rcParams['figure.dpi']      = 300\n",
    "pl.rcParams['image.cmap']      = 'jet'\n",
    "pl.rcParams['lines.linewidth'] = 1.5\n",
    "pl.rcParams['font.family']     = 'serif'\n",
    "pl.rcParams['font.weight']     = 'bold'\n",
    "pl.rcParams['font.size']       = 20\n",
    "pl.rcParams['font.sans-serif'] = 'serif'\n",
    "pl.rcParams['text.usetex']     = True\n",
    "pl.rcParams['axes.linewidth']  = 1.5\n",
    "pl.rcParams['axes.titlesize']  = 'medium'\n",
    "pl.rcParams['axes.labelsize']  = 'medium'\n",
    "\n",
    "pl.rcParams['xtick.major.size'] = 8\n",
    "pl.rcParams['xtick.minor.size'] = 4\n",
    "pl.rcParams['xtick.major.pad']  = 8\n",
    "pl.rcParams['xtick.minor.pad']  = 8\n",
    "pl.rcParams['xtick.color']      = 'k'\n",
    "pl.rcParams['xtick.labelsize']  = 'medium'\n",
    "pl.rcParams['xtick.direction']  = 'in'\n",
    "\n",
    "pl.rcParams['ytick.major.size'] = 8\n",
    "pl.rcParams['ytick.minor.size'] = 4\n",
    "pl.rcParams['ytick.major.pad']  = 8\n",
    "pl.rcParams['ytick.minor.pad']  = 8\n",
    "pl.rcParams['ytick.color']      = 'k'\n",
    "pl.rcParams['ytick.labelsize']  = 'medium'\n",
    "pl.rcParams['ytick.direction']  = 'in'"
   ]
  },
  {
   "cell_type": "code",
   "execution_count": 4,
   "metadata": {},
   "outputs": [
    {
     "ename": "NameError",
     "evalue": "name 'domain' is not defined",
     "output_type": "error",
     "traceback": [
      "\u001b[0;31m---------------------------------------------------------------------------\u001b[0m",
      "\u001b[0;31mNameError\u001b[0m                                 Traceback (most recent call last)",
      "\u001b[0;32m<ipython-input-4-8fb55d0834f5>\u001b[0m in \u001b[0;36m<module>\u001b[0;34m()\u001b[0m\n\u001b[1;32m      1\u001b[0m \u001b[0;31m# Defining the physical system to be solved:\u001b[0m\u001b[0;34m\u001b[0m\u001b[0;34m\u001b[0m\u001b[0m\n\u001b[0;32m----> 2\u001b[0;31m system = physical_system(domain,\n\u001b[0m\u001b[1;32m      3\u001b[0m                          \u001b[0mboundary_conditions\u001b[0m\u001b[0;34m,\u001b[0m\u001b[0;34m\u001b[0m\u001b[0m\n\u001b[1;32m      4\u001b[0m                          \u001b[0mparams\u001b[0m\u001b[0;34m,\u001b[0m\u001b[0;34m\u001b[0m\u001b[0m\n\u001b[1;32m      5\u001b[0m                          \u001b[0minitialize\u001b[0m\u001b[0;34m,\u001b[0m\u001b[0;34m\u001b[0m\u001b[0m\n",
      "\u001b[0;31mNameError\u001b[0m: name 'domain' is not defined"
     ]
    }
   ],
   "source": [
    "# Defining the physical system to be solved:\n",
    "system = physical_system(domain,\n",
    "                         boundary_conditions,\n",
    "                         params,\n",
    "                         initialize,\n",
    "                         advection_terms,\n",
    "                         collision_operator.BGK,\n",
    "                         moments\n",
    "                        )\n",
    "\n",
    "N_g_q = system.N_ghost_q\n",
    "\n",
    "# Declaring a linear system object which will evolve the defined physical system:\n",
    "nls = nonlinear_solver(system)\n",
    "ls  = linear_solver(system)"
   ]
  },
  {
   "cell_type": "code",
   "execution_count": 5,
   "metadata": {
    "collapsed": true
   },
   "outputs": [],
   "source": [
    "# Time parameters:\n",
    "dt      = 0.001\n",
    "t_final = 0.5\n",
    "\n",
    "time_array  = np.arange(0, t_final + dt, dt)\n",
    "\n",
    "rho_data_nls = np.zeros(time_array.size)\n",
    "rho_data_ls  = np.zeros(time_array.size)"
   ]
  },
  {
   "cell_type": "code",
   "execution_count": 6,
   "metadata": {},
   "outputs": [
    {
     "ename": "NameError",
     "evalue": "name 'nls' is not defined",
     "output_type": "error",
     "traceback": [
      "\u001b[0;31m---------------------------------------------------------------------------\u001b[0m",
      "\u001b[0;31mNameError\u001b[0m                                 Traceback (most recent call last)",
      "\u001b[0;32m<ipython-input-6-bf0625a42e1f>\u001b[0m in \u001b[0;36m<module>\u001b[0;34m()\u001b[0m\n\u001b[1;32m      1\u001b[0m \u001b[0;31m# Storing data at time t = 0:\u001b[0m\u001b[0;34m\u001b[0m\u001b[0;34m\u001b[0m\u001b[0m\n\u001b[0;32m----> 2\u001b[0;31m \u001b[0mn_nls\u001b[0m           \u001b[0;34m=\u001b[0m \u001b[0mnls\u001b[0m\u001b[0;34m.\u001b[0m\u001b[0mcompute_moments\u001b[0m\u001b[0;34m(\u001b[0m\u001b[0;34m'density'\u001b[0m\u001b[0;34m)\u001b[0m\u001b[0;34m\u001b[0m\u001b[0m\n\u001b[0m\u001b[1;32m      3\u001b[0m \u001b[0mrho_data_nls\u001b[0m\u001b[0;34m[\u001b[0m\u001b[0;36m0\u001b[0m\u001b[0;34m]\u001b[0m \u001b[0;34m=\u001b[0m \u001b[0maf\u001b[0m\u001b[0;34m.\u001b[0m\u001b[0mmax\u001b[0m\u001b[0;34m(\u001b[0m\u001b[0mn_nls\u001b[0m\u001b[0;34m[\u001b[0m\u001b[0;34m:\u001b[0m\u001b[0;34m,\u001b[0m \u001b[0;34m:\u001b[0m\u001b[0;34m,\u001b[0m \u001b[0mN_g_q\u001b[0m\u001b[0;34m:\u001b[0m\u001b[0;34m-\u001b[0m\u001b[0mN_g_q\u001b[0m\u001b[0;34m,\u001b[0m \u001b[0mN_g_q\u001b[0m\u001b[0;34m:\u001b[0m\u001b[0;34m-\u001b[0m\u001b[0mN_g_q\u001b[0m\u001b[0;34m]\u001b[0m\u001b[0;34m)\u001b[0m\u001b[0;34m\u001b[0m\u001b[0m\n\u001b[1;32m      4\u001b[0m \u001b[0;34m\u001b[0m\u001b[0m\n\u001b[1;32m      5\u001b[0m \u001b[0mn_ls\u001b[0m           \u001b[0;34m=\u001b[0m \u001b[0mls\u001b[0m\u001b[0;34m.\u001b[0m\u001b[0mcompute_moments\u001b[0m\u001b[0;34m(\u001b[0m\u001b[0;34m'density'\u001b[0m\u001b[0;34m)\u001b[0m\u001b[0;34m\u001b[0m\u001b[0m\n",
      "\u001b[0;31mNameError\u001b[0m: name 'nls' is not defined"
     ]
    }
   ],
   "source": [
    "# Storing data at time t = 0:\n",
    "n_nls           = nls.compute_moments('density')\n",
    "rho_data_nls[0] = af.max(n_nls[:, :, N_g_q:-N_g_q, N_g_q:-N_g_q])\n",
    "\n",
    "n_ls           = ls.compute_moments('density')\n",
    "rho_data_ls[0] = af.max(n_ls) \n",
    "\n",
    "for time_index, t0 in enumerate(time_array[1:]):\n",
    "\n",
    "    nls.strang_timestep(dt)\n",
    "    ls.RK4_timestep(dt)\n",
    "\n",
    "    n_nls                         = nls.compute_moments('density')\n",
    "    rho_data_nls[time_index + 1]  = af.max(n_nls[:, :, N_g_q:-N_g_q, N_g_q:-N_g_q])\n",
    "    \n",
    "    n_ls                        = ls.compute_moments('density')\n",
    "    rho_data_ls[time_index + 1] = af.max(n_ls) "
   ]
  },
  {
   "cell_type": "code",
   "execution_count": 7,
   "metadata": {
    "collapsed": true
   },
   "outputs": [],
   "source": [
    "pl.plot(time_array, rho_data_ls, '--', color = 'black', label = 'Linear Solver')\n",
    "pl.plot(time_array, rho_data_nls, label='Nonlinear Solver')\n",
    "pl.ylabel(r'MAX($\\rho$)')\n",
    "pl.xlabel('Time')\n",
    "pl.legend()\n",
    "pl.savefig('rho.png')\n",
    "pl.clf()"
   ]
  },
  {
   "cell_type": "code",
   "execution_count": null,
   "metadata": {
    "collapsed": true
   },
   "outputs": [],
   "source": []
  }
 ],
 "metadata": {
  "kernelspec": {
   "display_name": "Python 3",
   "language": "python",
   "name": "python3"
  },
  "language_info": {
   "codemirror_mode": {
    "name": "ipython",
    "version": 3
   },
   "file_extension": ".py",
   "mimetype": "text/x-python",
   "name": "python",
   "nbconvert_exporter": "python",
   "pygments_lexer": "ipython3",
   "version": "3.6.3"
  }
 },
 "nbformat": 4,
 "nbformat_minor": 2
}
